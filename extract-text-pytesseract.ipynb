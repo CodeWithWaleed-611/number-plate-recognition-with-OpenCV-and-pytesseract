{
 "cells": [
  {
   "cell_type": "code",
   "execution_count": 359,
   "metadata": {},
   "outputs": [],
   "source": [
    "import  pytesseract\n",
    "from PIL import Image\n",
    "import cv2\n",
    "from matplotlib import pyplot as plt\n",
    "import os\n",
    "import numpy as np\n",
    "\n",
    "#import easyocr as ocr\n",
    "#C:\\Users\\RAYYAN TECH\\AppData\\Local\\Programs\\Tesseract-OCR"
   ]
  },
  {
   "cell_type": "code",
   "execution_count": 360,
   "metadata": {},
   "outputs": [],
   "source": [
    "pytesseract.pytesseract.tesseract_cmd=r\"C:\\\\Users\\\\RAYYAN TECH\\\\AppData\\\\Local\\\\Programs\\\\Tesseract-OCR\\\\tesseract.exe\""
   ]
  },
  {
   "cell_type": "code",
   "execution_count": null,
   "metadata": {},
   "outputs": [],
   "source": []
  },
  {
   "cell_type": "code",
   "execution_count": 361,
   "metadata": {},
   "outputs": [],
   "source": [
    "def convert_to_png(path):\n",
    "    print(\"converting the image type\")\n",
    "    image = Image.open(path)\n",
    "    png_path = f'Converted_image.png'\n",
    "    try: \n",
    "        while True: \n",
    "            image.seek(image.tell() + 1) \n",
    "        \n",
    "    except EOFError: \n",
    "        pass\n",
    "\n",
    "    image.seek(0) \n",
    "    image.save(png_path, 'PNG')\n",
    "    return png_path\n"
   ]
  },
  {
   "cell_type": "code",
   "execution_count": 362,
   "metadata": {},
   "outputs": [],
   "source": [
    "def addWeight(image):\n",
    "    brightness = 10 \n",
    "    # Adjusts the contrast by scaling the pixel values by 2.3 \n",
    "    contrast = 1.3  \n",
    "    weighted = cv2.addWeighted(image, contrast, np.zeros(image.shape, image.dtype), 0, brightness) \n",
    "    return weighted"
   ]
  },
  {
   "cell_type": "code",
   "execution_count": 363,
   "metadata": {},
   "outputs": [],
   "source": [
    "def processCarPlate(car_plate):\n",
    "    blur = cv2.bilateralFilter(car_plate,9, 95, 95)\n",
    "    weighted = addWeight(blur)\n",
    "    canny = cv2.Canny(weighted,155, 255)\n",
    "    binary = cv2.adaptiveThreshold(canny,255,cv2.ADAPTIVE_THRESH_GAUSSIAN_C,cv2.THRESH_BINARY_INV,75,2)\n",
    "    return weighted"
   ]
  },
  {
   "cell_type": "code",
   "execution_count": 364,
   "metadata": {},
   "outputs": [],
   "source": [
    "\n",
    "def cropImage(image, loc):\n",
    "    location = loc\n",
    "    rect = cv2.minAreaRect(location)\n",
    "    box = cv2.boxPoints(rect)\n",
    "    box = np.int64(box)\n",
    "\n",
    "    mask = np.zeros(image.shape, dtype='uint8')\n",
    "    cv2.drawContours(mask,[box],0,255,-1)\n",
    "\n",
    "    new_image = cv2.bitwise_and(image,image,mask=mask)\n",
    "    cv2.imshow('new Image', new_image)\n",
    "\n",
    "    (x,y) = np.where(mask==255)\n",
    "    (x1,y1) = (np.min(x), np.min(y))\n",
    "    (x2,y2) = (np.max(x), np.max(y))\n",
    "\n",
    "    ROI = image[x1:x2+1, y1:y2+1]\n",
    "    return ROI\n"
   ]
  },
  {
   "cell_type": "code",
   "execution_count": null,
   "metadata": {},
   "outputs": [],
   "source": []
  },
  {
   "cell_type": "code",
   "execution_count": 459,
   "metadata": {},
   "outputs": [],
   "source": [
    "def preProcess(path):\n",
    "    png_path = convert_to_png(path)\n",
    "    car_plate = None\n",
    "\n",
    "    img = cv2.imread(png_path)\n",
    "    if img is None:\n",
    "        print(f\"Error: Image is not loaded correctly\")\n",
    "    else:\n",
    "        gray_img = cv2.cvtColor(img, cv2.COLOR_BGR2GRAY)\n",
    "        gray_img = cv2.resize(gray_img,(800,800),interpolation=cv2.INTER_LANCZOS4)\n",
    "\n",
    "        blurred_img = cv2.GaussianBlur(gray_img,(1,1), cv2.BORDER_DEFAULT)\n",
    "        #blurred_img = cv2.bilateralFilter(gray_img, 15, 75, 75)\n",
    "\n",
    "        canny = cv2.Canny(blurred_img, 125, 255)\n",
    "        cv2.imshow(\"Canny\", canny)\n",
    "        binary_img = cv2.adaptiveThreshold(canny, 255, cv2.ADAPTIVE_THRESH_GAUSSIAN_C, cv2.THRESH_BINARY,3,2)\n",
    "        cv2.imshow(\"Binary image\", binary_img)\n",
    "        contours,_ = cv2.findContours(binary_img,cv2.RETR_LIST,cv2.CHAIN_APPROX_SIMPLE)\n",
    "        #cv2.drawContours(gray_img,contours,-1,255,2)\n",
    "        #cv2.imshow(\"Gray\", gray_img)\n",
    "        contours = sorted(contours, key=cv2.contourArea, reverse=True)[:20]\n",
    "        location = None\n",
    "        for contour in contours:\n",
    "            approx = cv2.approxPolyDP(contour,20, True)\n",
    "            if len(approx) == 4:\n",
    "                location = approx\n",
    "                break\n",
    "\n",
    "        if location is None:\n",
    "            print(\"No number contour is found.\")\n",
    "        else:\n",
    "            ROI = cropImage(gray_img, location)\n",
    "            car_plate = ROI\n",
    "\n",
    "        \n",
    "\n",
    "        \n",
    "    \n",
    "        #cv2.imshow(\"Number Plate\", ROI)\n",
    "        cv2.imwrite(\"preprocessed_image.png\", car_plate)\n",
    "        cv2.waitKey(0)\n",
    "        cv2.destroyAllWindows()\n",
    "        \n",
    "\n",
    "    return car_plate\n",
    "\n",
    "\n",
    "\n"
   ]
  },
  {
   "cell_type": "code",
   "execution_count": 457,
   "metadata": {},
   "outputs": [],
   "source": [
    "\n",
    "\n",
    "def extractText(proc_image):\n",
    "    proc_car_plate = processCarPlate(proc_image)\n",
    "    custom_config = r'--oem 3 --psm 6'\n",
    "    text = pytesseract.image_to_string(proc_car_plate, config=custom_config)\n",
    "    return text\n",
    "\n"
   ]
  },
  {
   "cell_type": "code",
   "execution_count": 458,
   "metadata": {},
   "outputs": [
    {
     "name": "stdout",
     "output_type": "stream",
     "text": [
      "converting the image type\n",
      "FO eee\n",
      "\n"
     ]
    }
   ],
   "source": [
    "path ='data/new-images/image-04.jpg'\n",
    "pro_image = preProcess(path)\n",
    "text = extractText(proc_image=pro_image)\n",
    "print(text)\n"
   ]
  },
  {
   "cell_type": "code",
   "execution_count": 434,
   "metadata": {},
   "outputs": [],
   "source": [
    "cv2.destroyAllWindows()"
   ]
  },
  {
   "cell_type": "code",
   "execution_count": null,
   "metadata": {},
   "outputs": [],
   "source": []
  },
  {
   "cell_type": "code",
   "execution_count": null,
   "metadata": {},
   "outputs": [],
   "source": []
  },
  {
   "cell_type": "code",
   "execution_count": null,
   "metadata": {},
   "outputs": [],
   "source": []
  }
 ],
 "metadata": {
  "kernelspec": {
   "display_name": "Python 3",
   "language": "python",
   "name": "python3"
  },
  "language_info": {
   "codemirror_mode": {
    "name": "ipython",
    "version": 3
   },
   "file_extension": ".py",
   "mimetype": "text/x-python",
   "name": "python",
   "nbconvert_exporter": "python",
   "pygments_lexer": "ipython3",
   "version": "3.10.6"
  }
 },
 "nbformat": 4,
 "nbformat_minor": 2
}
